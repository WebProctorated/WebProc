{
 "cells": [
  {
   "cell_type": "code",
   "execution_count": 1,
   "metadata": {},
   "outputs": [],
   "source": [
    "import numpy as np\n",
    "import pandas as pd"
   ]
  },
  {
   "cell_type": "code",
   "execution_count": 2,
   "metadata": {},
   "outputs": [],
   "source": [
    "cheat_data = pd.read_csv('cheat.csv') \n",
    "ncheat_data = pd.read_csv('non-cheat.csv')"
   ]
  },
  {
   "cell_type": "code",
   "execution_count": 3,
   "metadata": {},
   "outputs": [
    {
     "data": {
      "text/html": [
       "<div>\n",
       "<style scoped>\n",
       "    .dataframe tbody tr th:only-of-type {\n",
       "        vertical-align: middle;\n",
       "    }\n",
       "\n",
       "    .dataframe tbody tr th {\n",
       "        vertical-align: top;\n",
       "    }\n",
       "\n",
       "    .dataframe thead th {\n",
       "        text-align: right;\n",
       "    }\n",
       "</style>\n",
       "<table border=\"1\" class=\"dataframe\">\n",
       "  <thead>\n",
       "    <tr style=\"text-align: right;\">\n",
       "      <th></th>\n",
       "      <th>Unnamed: 0</th>\n",
       "      <th>Head_orientation_vertical</th>\n",
       "      <th>Head_orientation_horizontal</th>\n",
       "      <th>Mouth_open</th>\n",
       "      <th>Phone_detected</th>\n",
       "      <th>Head_count</th>\n",
       "      <th>Head_angles_v</th>\n",
       "      <th>Head_angles_h</th>\n",
       "    </tr>\n",
       "  </thead>\n",
       "  <tbody>\n",
       "    <tr>\n",
       "      <td>0</td>\n",
       "      <td>0</td>\n",
       "      <td></td>\n",
       "      <td></td>\n",
       "      <td>Mouth open</td>\n",
       "      <td></td>\n",
       "      <td>1</td>\n",
       "      <td>5</td>\n",
       "      <td>-29</td>\n",
       "    </tr>\n",
       "    <tr>\n",
       "      <td>1</td>\n",
       "      <td>1</td>\n",
       "      <td></td>\n",
       "      <td></td>\n",
       "      <td></td>\n",
       "      <td>55.54068684577942</td>\n",
       "      <td>1</td>\n",
       "      <td>9</td>\n",
       "      <td>-28</td>\n",
       "    </tr>\n",
       "    <tr>\n",
       "      <td>2</td>\n",
       "      <td>2</td>\n",
       "      <td></td>\n",
       "      <td></td>\n",
       "      <td>Mouth open</td>\n",
       "      <td>50.79564452171326</td>\n",
       "      <td>1</td>\n",
       "      <td>3</td>\n",
       "      <td>-36</td>\n",
       "    </tr>\n",
       "    <tr>\n",
       "      <td>3</td>\n",
       "      <td>3</td>\n",
       "      <td></td>\n",
       "      <td></td>\n",
       "      <td>Mouth open</td>\n",
       "      <td>45.11990547180176</td>\n",
       "      <td>1</td>\n",
       "      <td>20</td>\n",
       "      <td>-24</td>\n",
       "    </tr>\n",
       "    <tr>\n",
       "      <td>4</td>\n",
       "      <td>4</td>\n",
       "      <td></td>\n",
       "      <td></td>\n",
       "      <td>Mouth open</td>\n",
       "      <td></td>\n",
       "      <td>1</td>\n",
       "      <td>13</td>\n",
       "      <td>-15</td>\n",
       "    </tr>\n",
       "  </tbody>\n",
       "</table>\n",
       "</div>"
      ],
      "text/plain": [
       "   Unnamed: 0 Head_orientation_vertical Head_orientation_horizontal  \\\n",
       "0           0                                                         \n",
       "1           1                                                         \n",
       "2           2                                                         \n",
       "3           3                                                         \n",
       "4           4                                                         \n",
       "\n",
       "   Mouth_open     Phone_detected  Head_count  Head_angles_v  Head_angles_h  \n",
       "0  Mouth open                              1              5            -29  \n",
       "1              55.54068684577942           1              9            -28  \n",
       "2  Mouth open  50.79564452171326           1              3            -36  \n",
       "3  Mouth open  45.11990547180176           1             20            -24  \n",
       "4  Mouth open                              1             13            -15  "
      ]
     },
     "execution_count": 3,
     "metadata": {},
     "output_type": "execute_result"
    }
   ],
   "source": [
    "cheat_data.head()"
   ]
  },
  {
   "cell_type": "code",
   "execution_count": 4,
   "metadata": {},
   "outputs": [
    {
     "data": {
      "text/html": [
       "<div>\n",
       "<style scoped>\n",
       "    .dataframe tbody tr th:only-of-type {\n",
       "        vertical-align: middle;\n",
       "    }\n",
       "\n",
       "    .dataframe tbody tr th {\n",
       "        vertical-align: top;\n",
       "    }\n",
       "\n",
       "    .dataframe thead th {\n",
       "        text-align: right;\n",
       "    }\n",
       "</style>\n",
       "<table border=\"1\" class=\"dataframe\">\n",
       "  <thead>\n",
       "    <tr style=\"text-align: right;\">\n",
       "      <th></th>\n",
       "      <th>Unnamed: 0</th>\n",
       "      <th>Head_count</th>\n",
       "      <th>Head_angles_v</th>\n",
       "      <th>Head_angles_h</th>\n",
       "    </tr>\n",
       "  </thead>\n",
       "  <tbody>\n",
       "    <tr>\n",
       "      <td>count</td>\n",
       "      <td>579.000000</td>\n",
       "      <td>579.000000</td>\n",
       "      <td>579.000000</td>\n",
       "      <td>579.000000</td>\n",
       "    </tr>\n",
       "    <tr>\n",
       "      <td>mean</td>\n",
       "      <td>289.000000</td>\n",
       "      <td>0.839378</td>\n",
       "      <td>3.155440</td>\n",
       "      <td>-8.713299</td>\n",
       "    </tr>\n",
       "    <tr>\n",
       "      <td>std</td>\n",
       "      <td>167.287178</td>\n",
       "      <td>0.536008</td>\n",
       "      <td>23.254051</td>\n",
       "      <td>29.547112</td>\n",
       "    </tr>\n",
       "    <tr>\n",
       "      <td>min</td>\n",
       "      <td>0.000000</td>\n",
       "      <td>0.000000</td>\n",
       "      <td>-88.000000</td>\n",
       "      <td>-73.000000</td>\n",
       "    </tr>\n",
       "    <tr>\n",
       "      <td>25%</td>\n",
       "      <td>144.500000</td>\n",
       "      <td>1.000000</td>\n",
       "      <td>-13.000000</td>\n",
       "      <td>-32.000000</td>\n",
       "    </tr>\n",
       "    <tr>\n",
       "      <td>50%</td>\n",
       "      <td>289.000000</td>\n",
       "      <td>1.000000</td>\n",
       "      <td>4.000000</td>\n",
       "      <td>-17.000000</td>\n",
       "    </tr>\n",
       "    <tr>\n",
       "      <td>75%</td>\n",
       "      <td>433.500000</td>\n",
       "      <td>1.000000</td>\n",
       "      <td>14.000000</td>\n",
       "      <td>20.000000</td>\n",
       "    </tr>\n",
       "    <tr>\n",
       "      <td>max</td>\n",
       "      <td>578.000000</td>\n",
       "      <td>3.000000</td>\n",
       "      <td>90.000000</td>\n",
       "      <td>90.000000</td>\n",
       "    </tr>\n",
       "  </tbody>\n",
       "</table>\n",
       "</div>"
      ],
      "text/plain": [
       "       Unnamed: 0  Head_count  Head_angles_v  Head_angles_h\n",
       "count  579.000000  579.000000     579.000000     579.000000\n",
       "mean   289.000000    0.839378       3.155440      -8.713299\n",
       "std    167.287178    0.536008      23.254051      29.547112\n",
       "min      0.000000    0.000000     -88.000000     -73.000000\n",
       "25%    144.500000    1.000000     -13.000000     -32.000000\n",
       "50%    289.000000    1.000000       4.000000     -17.000000\n",
       "75%    433.500000    1.000000      14.000000      20.000000\n",
       "max    578.000000    3.000000      90.000000      90.000000"
      ]
     },
     "execution_count": 4,
     "metadata": {},
     "output_type": "execute_result"
    }
   ],
   "source": [
    "cheat_data.describe()"
   ]
  },
  {
   "cell_type": "code",
   "execution_count": 5,
   "metadata": {},
   "outputs": [
    {
     "name": "stdout",
     "output_type": "stream",
     "text": [
      "<class 'pandas.core.frame.DataFrame'>\n",
      "RangeIndex: 579 entries, 0 to 578\n",
      "Data columns (total 8 columns):\n",
      "Unnamed: 0                     579 non-null int64\n",
      "Head_orientation_vertical      579 non-null object\n",
      "Head_orientation_horizontal    579 non-null object\n",
      "Mouth_open                     579 non-null object\n",
      "Phone_detected                 579 non-null object\n",
      "Head_count                     579 non-null int64\n",
      "Head_angles_v                  579 non-null int64\n",
      "Head_angles_h                  579 non-null int64\n",
      "dtypes: int64(4), object(4)\n",
      "memory usage: 36.3+ KB\n"
     ]
    }
   ],
   "source": [
    "cheat_data.info()"
   ]
  },
  {
   "cell_type": "code",
   "execution_count": 6,
   "metadata": {},
   "outputs": [
    {
     "data": {
      "text/html": [
       "<div>\n",
       "<style scoped>\n",
       "    .dataframe tbody tr th:only-of-type {\n",
       "        vertical-align: middle;\n",
       "    }\n",
       "\n",
       "    .dataframe tbody tr th {\n",
       "        vertical-align: top;\n",
       "    }\n",
       "\n",
       "    .dataframe thead th {\n",
       "        text-align: right;\n",
       "    }\n",
       "</style>\n",
       "<table border=\"1\" class=\"dataframe\">\n",
       "  <thead>\n",
       "    <tr style=\"text-align: right;\">\n",
       "      <th></th>\n",
       "      <th>Unnamed: 0</th>\n",
       "      <th>Head_orientation_vertical</th>\n",
       "      <th>Head_orientation_horizontal</th>\n",
       "      <th>Mouth_open</th>\n",
       "      <th>Phone_detected</th>\n",
       "      <th>Head_count</th>\n",
       "      <th>Head_angles_v</th>\n",
       "      <th>Head_angles_h</th>\n",
       "    </tr>\n",
       "  </thead>\n",
       "  <tbody>\n",
       "    <tr>\n",
       "      <td>0</td>\n",
       "      <td>0</td>\n",
       "      <td></td>\n",
       "      <td></td>\n",
       "      <td>Mouth open</td>\n",
       "      <td></td>\n",
       "      <td>1</td>\n",
       "      <td>5</td>\n",
       "      <td>-29</td>\n",
       "    </tr>\n",
       "    <tr>\n",
       "      <td>1</td>\n",
       "      <td>1</td>\n",
       "      <td></td>\n",
       "      <td></td>\n",
       "      <td></td>\n",
       "      <td>55.54068684577942</td>\n",
       "      <td>1</td>\n",
       "      <td>9</td>\n",
       "      <td>-28</td>\n",
       "    </tr>\n",
       "    <tr>\n",
       "      <td>2</td>\n",
       "      <td>2</td>\n",
       "      <td></td>\n",
       "      <td></td>\n",
       "      <td>Mouth open</td>\n",
       "      <td>50.79564452171326</td>\n",
       "      <td>1</td>\n",
       "      <td>3</td>\n",
       "      <td>-36</td>\n",
       "    </tr>\n",
       "    <tr>\n",
       "      <td>3</td>\n",
       "      <td>3</td>\n",
       "      <td></td>\n",
       "      <td></td>\n",
       "      <td>Mouth open</td>\n",
       "      <td>45.11990547180176</td>\n",
       "      <td>1</td>\n",
       "      <td>20</td>\n",
       "      <td>-24</td>\n",
       "    </tr>\n",
       "    <tr>\n",
       "      <td>4</td>\n",
       "      <td>4</td>\n",
       "      <td></td>\n",
       "      <td></td>\n",
       "      <td>Mouth open</td>\n",
       "      <td></td>\n",
       "      <td>1</td>\n",
       "      <td>13</td>\n",
       "      <td>-15</td>\n",
       "    </tr>\n",
       "  </tbody>\n",
       "</table>\n",
       "</div>"
      ],
      "text/plain": [
       "   Unnamed: 0 Head_orientation_vertical Head_orientation_horizontal  \\\n",
       "0           0                                                         \n",
       "1           1                                                         \n",
       "2           2                                                         \n",
       "3           3                                                         \n",
       "4           4                                                         \n",
       "\n",
       "   Mouth_open     Phone_detected  Head_count  Head_angles_v  Head_angles_h  \n",
       "0  Mouth open                              1              5            -29  \n",
       "1              55.54068684577942           1              9            -28  \n",
       "2  Mouth open  50.79564452171326           1              3            -36  \n",
       "3  Mouth open  45.11990547180176           1             20            -24  \n",
       "4  Mouth open                              1             13            -15  "
      ]
     },
     "execution_count": 6,
     "metadata": {},
     "output_type": "execute_result"
    }
   ],
   "source": [
    "cheat_data.head()"
   ]
  },
  {
   "cell_type": "code",
   "execution_count": 7,
   "metadata": {},
   "outputs": [],
   "source": [
    "del cheat_data['Unnamed: 0']"
   ]
  },
  {
   "cell_type": "code",
   "execution_count": 8,
   "metadata": {},
   "outputs": [],
   "source": [
    "del ncheat_data['Unnamed: 0']"
   ]
  },
  {
   "cell_type": "code",
   "execution_count": 9,
   "metadata": {},
   "outputs": [],
   "source": [
    "cheat_data = cheat_data.replace(['Head up', 'Head down', 'Head left', 'Head right', 'Mouth open'], [1,-1,-1,1,1])\n",
    "ncheat_data = ncheat_data.replace(['Head up', 'Head down', 'Head left', 'Head right', 'Mouth open'], [1,-1,-1,1,1])"
   ]
  },
  {
   "cell_type": "code",
   "execution_count": 10,
   "metadata": {},
   "outputs": [],
   "source": [
    "cheat_data.loc[:,:cheat_data.columns[3]] = cheat_data.loc[:,:cheat_data.columns[3]].replace(' ',0) #replace space strings with 0 in colomns till phone detection\n",
    "ncheat_data.loc[:,:ncheat_data.columns[3]] = ncheat_data.loc[:,:ncheat_data.columns[3]].replace(' ',0)"
   ]
  },
  {
   "cell_type": "code",
   "execution_count": 11,
   "metadata": {},
   "outputs": [],
   "source": [
    "cheat_data[cheat_data.columns[3]] = cheat_data[cheat_data.columns[3]].astype('float64')\n",
    "ncheat_data[ncheat_data.columns[3]] = ncheat_data[ncheat_data.columns[3]].astype('float64')"
   ]
  },
  {
   "cell_type": "code",
   "execution_count": 12,
   "metadata": {},
   "outputs": [
    {
     "data": {
      "text/html": [
       "<div>\n",
       "<style scoped>\n",
       "    .dataframe tbody tr th:only-of-type {\n",
       "        vertical-align: middle;\n",
       "    }\n",
       "\n",
       "    .dataframe tbody tr th {\n",
       "        vertical-align: top;\n",
       "    }\n",
       "\n",
       "    .dataframe thead th {\n",
       "        text-align: right;\n",
       "    }\n",
       "</style>\n",
       "<table border=\"1\" class=\"dataframe\">\n",
       "  <thead>\n",
       "    <tr style=\"text-align: right;\">\n",
       "      <th></th>\n",
       "      <th>Head_orientation_vertical</th>\n",
       "      <th>Head_orientation_horizontal</th>\n",
       "      <th>Mouth_open</th>\n",
       "      <th>Phone_detected</th>\n",
       "      <th>Head_count</th>\n",
       "      <th>Head_angles_v</th>\n",
       "      <th>Head_angles_h</th>\n",
       "    </tr>\n",
       "  </thead>\n",
       "  <tbody>\n",
       "    <tr>\n",
       "      <td>count</td>\n",
       "      <td>579.000000</td>\n",
       "      <td>579.000000</td>\n",
       "      <td>579.000000</td>\n",
       "      <td>579.000000</td>\n",
       "      <td>579.000000</td>\n",
       "      <td>579.000000</td>\n",
       "      <td>579.000000</td>\n",
       "    </tr>\n",
       "    <tr>\n",
       "      <td>mean</td>\n",
       "      <td>-0.041451</td>\n",
       "      <td>-0.027634</td>\n",
       "      <td>0.531952</td>\n",
       "      <td>7.788588</td>\n",
       "      <td>0.839378</td>\n",
       "      <td>3.155440</td>\n",
       "      <td>-8.713299</td>\n",
       "    </tr>\n",
       "    <tr>\n",
       "      <td>std</td>\n",
       "      <td>0.279041</td>\n",
       "      <td>0.254910</td>\n",
       "      <td>0.499410</td>\n",
       "      <td>19.234185</td>\n",
       "      <td>0.536008</td>\n",
       "      <td>23.254051</td>\n",
       "      <td>29.547112</td>\n",
       "    </tr>\n",
       "    <tr>\n",
       "      <td>min</td>\n",
       "      <td>-1.000000</td>\n",
       "      <td>-1.000000</td>\n",
       "      <td>0.000000</td>\n",
       "      <td>0.000000</td>\n",
       "      <td>0.000000</td>\n",
       "      <td>-88.000000</td>\n",
       "      <td>-73.000000</td>\n",
       "    </tr>\n",
       "    <tr>\n",
       "      <td>25%</td>\n",
       "      <td>0.000000</td>\n",
       "      <td>0.000000</td>\n",
       "      <td>0.000000</td>\n",
       "      <td>0.000000</td>\n",
       "      <td>1.000000</td>\n",
       "      <td>-13.000000</td>\n",
       "      <td>-32.000000</td>\n",
       "    </tr>\n",
       "    <tr>\n",
       "      <td>50%</td>\n",
       "      <td>0.000000</td>\n",
       "      <td>0.000000</td>\n",
       "      <td>1.000000</td>\n",
       "      <td>0.000000</td>\n",
       "      <td>1.000000</td>\n",
       "      <td>4.000000</td>\n",
       "      <td>-17.000000</td>\n",
       "    </tr>\n",
       "    <tr>\n",
       "      <td>75%</td>\n",
       "      <td>0.000000</td>\n",
       "      <td>0.000000</td>\n",
       "      <td>1.000000</td>\n",
       "      <td>0.000000</td>\n",
       "      <td>1.000000</td>\n",
       "      <td>14.000000</td>\n",
       "      <td>20.000000</td>\n",
       "    </tr>\n",
       "    <tr>\n",
       "      <td>max</td>\n",
       "      <td>1.000000</td>\n",
       "      <td>1.000000</td>\n",
       "      <td>1.000000</td>\n",
       "      <td>77.003467</td>\n",
       "      <td>3.000000</td>\n",
       "      <td>90.000000</td>\n",
       "      <td>90.000000</td>\n",
       "    </tr>\n",
       "  </tbody>\n",
       "</table>\n",
       "</div>"
      ],
      "text/plain": [
       "       Head_orientation_vertical  Head_orientation_horizontal  Mouth_open  \\\n",
       "count                 579.000000                   579.000000  579.000000   \n",
       "mean                   -0.041451                    -0.027634    0.531952   \n",
       "std                     0.279041                     0.254910    0.499410   \n",
       "min                    -1.000000                    -1.000000    0.000000   \n",
       "25%                     0.000000                     0.000000    0.000000   \n",
       "50%                     0.000000                     0.000000    1.000000   \n",
       "75%                     0.000000                     0.000000    1.000000   \n",
       "max                     1.000000                     1.000000    1.000000   \n",
       "\n",
       "       Phone_detected  Head_count  Head_angles_v  Head_angles_h  \n",
       "count      579.000000  579.000000     579.000000     579.000000  \n",
       "mean         7.788588    0.839378       3.155440      -8.713299  \n",
       "std         19.234185    0.536008      23.254051      29.547112  \n",
       "min          0.000000    0.000000     -88.000000     -73.000000  \n",
       "25%          0.000000    1.000000     -13.000000     -32.000000  \n",
       "50%          0.000000    1.000000       4.000000     -17.000000  \n",
       "75%          0.000000    1.000000      14.000000      20.000000  \n",
       "max         77.003467    3.000000      90.000000      90.000000  "
      ]
     },
     "execution_count": 12,
     "metadata": {},
     "output_type": "execute_result"
    }
   ],
   "source": [
    "cheat_data.describe()"
   ]
  },
  {
   "cell_type": "code",
   "execution_count": 13,
   "metadata": {},
   "outputs": [
    {
     "data": {
      "text/html": [
       "<div>\n",
       "<style scoped>\n",
       "    .dataframe tbody tr th:only-of-type {\n",
       "        vertical-align: middle;\n",
       "    }\n",
       "\n",
       "    .dataframe tbody tr th {\n",
       "        vertical-align: top;\n",
       "    }\n",
       "\n",
       "    .dataframe thead th {\n",
       "        text-align: right;\n",
       "    }\n",
       "</style>\n",
       "<table border=\"1\" class=\"dataframe\">\n",
       "  <thead>\n",
       "    <tr style=\"text-align: right;\">\n",
       "      <th></th>\n",
       "      <th>Head_orientation_vertical</th>\n",
       "      <th>Head_orientation_horizontal</th>\n",
       "      <th>Mouth_open</th>\n",
       "      <th>Phone_detected</th>\n",
       "      <th>Head_count</th>\n",
       "      <th>Head_angles_v</th>\n",
       "      <th>Head_angles_h</th>\n",
       "    </tr>\n",
       "  </thead>\n",
       "  <tbody>\n",
       "    <tr>\n",
       "      <td>count</td>\n",
       "      <td>866.000000</td>\n",
       "      <td>866.0</td>\n",
       "      <td>866.000000</td>\n",
       "      <td>866.000000</td>\n",
       "      <td>866.0</td>\n",
       "      <td>866.000000</td>\n",
       "      <td>866.000000</td>\n",
       "    </tr>\n",
       "    <tr>\n",
       "      <td>mean</td>\n",
       "      <td>0.001155</td>\n",
       "      <td>0.0</td>\n",
       "      <td>0.040416</td>\n",
       "      <td>0.385190</td>\n",
       "      <td>1.0</td>\n",
       "      <td>9.315242</td>\n",
       "      <td>-26.603926</td>\n",
       "    </tr>\n",
       "    <tr>\n",
       "      <td>std</td>\n",
       "      <td>0.058880</td>\n",
       "      <td>0.0</td>\n",
       "      <td>0.197046</td>\n",
       "      <td>4.273542</td>\n",
       "      <td>0.0</td>\n",
       "      <td>5.381507</td>\n",
       "      <td>4.020633</td>\n",
       "    </tr>\n",
       "    <tr>\n",
       "      <td>min</td>\n",
       "      <td>-1.000000</td>\n",
       "      <td>0.0</td>\n",
       "      <td>0.000000</td>\n",
       "      <td>0.000000</td>\n",
       "      <td>1.0</td>\n",
       "      <td>-65.000000</td>\n",
       "      <td>-35.000000</td>\n",
       "    </tr>\n",
       "    <tr>\n",
       "      <td>25%</td>\n",
       "      <td>0.000000</td>\n",
       "      <td>0.0</td>\n",
       "      <td>0.000000</td>\n",
       "      <td>0.000000</td>\n",
       "      <td>1.0</td>\n",
       "      <td>8.000000</td>\n",
       "      <td>-29.000000</td>\n",
       "    </tr>\n",
       "    <tr>\n",
       "      <td>50%</td>\n",
       "      <td>0.000000</td>\n",
       "      <td>0.0</td>\n",
       "      <td>0.000000</td>\n",
       "      <td>0.000000</td>\n",
       "      <td>1.0</td>\n",
       "      <td>10.000000</td>\n",
       "      <td>-27.000000</td>\n",
       "    </tr>\n",
       "    <tr>\n",
       "      <td>75%</td>\n",
       "      <td>0.000000</td>\n",
       "      <td>0.0</td>\n",
       "      <td>0.000000</td>\n",
       "      <td>0.000000</td>\n",
       "      <td>1.0</td>\n",
       "      <td>11.000000</td>\n",
       "      <td>-25.000000</td>\n",
       "    </tr>\n",
       "    <tr>\n",
       "      <td>max</td>\n",
       "      <td>1.000000</td>\n",
       "      <td>0.0</td>\n",
       "      <td>1.000000</td>\n",
       "      <td>51.965302</td>\n",
       "      <td>1.0</td>\n",
       "      <td>70.000000</td>\n",
       "      <td>15.000000</td>\n",
       "    </tr>\n",
       "  </tbody>\n",
       "</table>\n",
       "</div>"
      ],
      "text/plain": [
       "       Head_orientation_vertical  Head_orientation_horizontal  Mouth_open  \\\n",
       "count                 866.000000                        866.0  866.000000   \n",
       "mean                    0.001155                          0.0    0.040416   \n",
       "std                     0.058880                          0.0    0.197046   \n",
       "min                    -1.000000                          0.0    0.000000   \n",
       "25%                     0.000000                          0.0    0.000000   \n",
       "50%                     0.000000                          0.0    0.000000   \n",
       "75%                     0.000000                          0.0    0.000000   \n",
       "max                     1.000000                          0.0    1.000000   \n",
       "\n",
       "       Phone_detected  Head_count  Head_angles_v  Head_angles_h  \n",
       "count      866.000000       866.0     866.000000     866.000000  \n",
       "mean         0.385190         1.0       9.315242     -26.603926  \n",
       "std          4.273542         0.0       5.381507       4.020633  \n",
       "min          0.000000         1.0     -65.000000     -35.000000  \n",
       "25%          0.000000         1.0       8.000000     -29.000000  \n",
       "50%          0.000000         1.0      10.000000     -27.000000  \n",
       "75%          0.000000         1.0      11.000000     -25.000000  \n",
       "max         51.965302         1.0      70.000000      15.000000  "
      ]
     },
     "execution_count": 13,
     "metadata": {},
     "output_type": "execute_result"
    }
   ],
   "source": [
    "ncheat_data.describe()"
   ]
  },
  {
   "cell_type": "code",
   "execution_count": 14,
   "metadata": {},
   "outputs": [],
   "source": [
    "b1 = cheat_data.boxplot(rot=45)"
   ]
  },
  {
   "cell_type": "code",
   "execution_count": 15,
   "metadata": {},
   "outputs": [
    {
     "data": {
      "image/png": "[encoded data removed]",
      "text/plain": [
       "<Figure size 432x288 with 1 Axes>"
      ]
     },
     "metadata": {
      "needs_background": "light"
     },
     "output_type": "display_data"
    }
   ],
   "source": [
    "b2 = ncheat_data.boxplot(rot=45)"
   ]
  },
  {
   "cell_type": "code",
   "execution_count": 16,
   "metadata": {},
   "outputs": [
    {
     "data": {
      "text/html": [
       "<div>\n",
       "<style scoped>\n",
       "    .dataframe tbody tr th:only-of-type {\n",
       "        vertical-align: middle;\n",
       "    }\n",
       "\n",
       "    .dataframe tbody tr th {\n",
       "        vertical-align: top;\n",
       "    }\n",
       "\n",
       "    .dataframe thead th {\n",
       "        text-align: right;\n",
       "    }\n",
       "</style>\n",
       "<table border=\"1\" class=\"dataframe\">\n",
       "  <thead>\n",
       "    <tr style=\"text-align: right;\">\n",
       "      <th></th>\n",
       "      <th>Head_orientation_vertical</th>\n",
       "      <th>Head_orientation_horizontal</th>\n",
       "      <th>Mouth_open</th>\n",
       "      <th>Phone_detected</th>\n",
       "      <th>Head_count</th>\n",
       "      <th>Head_angles_v</th>\n",
       "      <th>Head_angles_h</th>\n",
       "    </tr>\n",
       "  </thead>\n",
       "  <tbody>\n",
       "    <tr>\n",
       "      <td>Head_orientation_vertical</td>\n",
       "      <td>0.077864</td>\n",
       "      <td>-0.002878</td>\n",
       "      <td>0.018628</td>\n",
       "      <td>0.035307</td>\n",
       "      <td>0.022742</td>\n",
       "      <td>-4.661366</td>\n",
       "      <td>0.112251</td>\n",
       "    </tr>\n",
       "    <tr>\n",
       "      <td>Head_orientation_horizontal</td>\n",
       "      <td>-0.002878</td>\n",
       "      <td>0.064979</td>\n",
       "      <td>-0.000846</td>\n",
       "      <td>0.146529</td>\n",
       "      <td>0.009395</td>\n",
       "      <td>0.319182</td>\n",
       "      <td>3.409320</td>\n",
       "    </tr>\n",
       "    <tr>\n",
       "      <td>Mouth_open</td>\n",
       "      <td>0.018628</td>\n",
       "      <td>-0.000846</td>\n",
       "      <td>0.249410</td>\n",
       "      <td>0.426064</td>\n",
       "      <td>-0.013025</td>\n",
       "      <td>-1.233349</td>\n",
       "      <td>0.866256</td>\n",
       "    </tr>\n",
       "    <tr>\n",
       "      <td>Phone_detected</td>\n",
       "      <td>0.035307</td>\n",
       "      <td>0.146529</td>\n",
       "      <td>0.426064</td>\n",
       "      <td>369.953890</td>\n",
       "      <td>-0.183623</td>\n",
       "      <td>32.710194</td>\n",
       "      <td>4.047476</td>\n",
       "    </tr>\n",
       "    <tr>\n",
       "      <td>Head_count</td>\n",
       "      <td>0.022742</td>\n",
       "      <td>0.009395</td>\n",
       "      <td>-0.013025</td>\n",
       "      <td>-0.183623</td>\n",
       "      <td>0.287305</td>\n",
       "      <td>-1.400595</td>\n",
       "      <td>0.186269</td>\n",
       "    </tr>\n",
       "    <tr>\n",
       "      <td>Head_angles_v</td>\n",
       "      <td>-4.661366</td>\n",
       "      <td>0.319182</td>\n",
       "      <td>-1.233349</td>\n",
       "      <td>32.710194</td>\n",
       "      <td>-1.400595</td>\n",
       "      <td>540.750883</td>\n",
       "      <td>-204.852601</td>\n",
       "    </tr>\n",
       "    <tr>\n",
       "      <td>Head_angles_h</td>\n",
       "      <td>0.112251</td>\n",
       "      <td>3.409320</td>\n",
       "      <td>0.866256</td>\n",
       "      <td>4.047476</td>\n",
       "      <td>0.186269</td>\n",
       "      <td>-204.852601</td>\n",
       "      <td>873.031847</td>\n",
       "    </tr>\n",
       "  </tbody>\n",
       "</table>\n",
       "</div>"
      ],
      "text/plain": [
       "                             Head_orientation_vertical  \\\n",
       "Head_orientation_vertical                     0.077864   \n",
       "Head_orientation_horizontal                  -0.002878   \n",
       "Mouth_open                                    0.018628   \n",
       "Phone_detected                                0.035307   \n",
       "Head_count                                    0.022742   \n",
       "Head_angles_v                                -4.661366   \n",
       "Head_angles_h                                 0.112251   \n",
       "\n",
       "                             Head_orientation_horizontal  Mouth_open  \\\n",
       "Head_orientation_vertical                      -0.002878    0.018628   \n",
       "Head_orientation_horizontal                     0.064979   -0.000846   \n",
       "Mouth_open                                     -0.000846    0.249410   \n",
       "Phone_detected                                  0.146529    0.426064   \n",
       "Head_count                                      0.009395   -0.013025   \n",
       "Head_angles_v                                   0.319182   -1.233349   \n",
       "Head_angles_h                                   3.409320    0.866256   \n",
       "\n",
       "                             Phone_detected  Head_count  Head_angles_v  \\\n",
       "Head_orientation_vertical          0.035307    0.022742      -4.661366   \n",
       "Head_orientation_horizontal        0.146529    0.009395       0.319182   \n",
       "Mouth_open                         0.426064   -0.013025      -1.233349   \n",
       "Phone_detected                   369.953890   -0.183623      32.710194   \n",
       "Head_count                        -0.183623    0.287305      -1.400595   \n",
       "Head_angles_v                     32.710194   -1.400595     540.750883   \n",
       "Head_angles_h                      4.047476    0.186269    -204.852601   \n",
       "\n",
       "                             Head_angles_h  \n",
       "Head_orientation_vertical         0.112251  \n",
       "Head_orientation_horizontal       3.409320  \n",
       "Mouth_open                        0.866256  \n",
       "Phone_detected                    4.047476  \n",
       "Head_count                        0.186269  \n",
       "Head_angles_v                  -204.852601  \n",
       "Head_angles_h                   873.031847  "
      ]
     },
     "execution_count": 16,
     "metadata": {},
     "output_type": "execute_result"
    }
   ],
   "source": [
    "cheat_data.cov()"
   ]
  },
  {
   "cell_type": "code",
   "execution_count": 17,
   "metadata": {},
   "outputs": [
    {
     "data": {
      "text/html": [
       "<div>\n",
       "<style scoped>\n",
       "    .dataframe tbody tr th:only-of-type {\n",
       "        vertical-align: middle;\n",
       "    }\n",
       "\n",
       "    .dataframe tbody tr th {\n",
       "        vertical-align: top;\n",
       "    }\n",
       "\n",
       "    .dataframe thead th {\n",
       "        text-align: right;\n",
       "    }\n",
       "</style>\n",
       "<table border=\"1\" class=\"dataframe\">\n",
       "  <thead>\n",
       "    <tr style=\"text-align: right;\">\n",
       "      <th></th>\n",
       "      <th>Head_orientation_vertical</th>\n",
       "      <th>Head_orientation_horizontal</th>\n",
       "      <th>Mouth_open</th>\n",
       "      <th>Phone_detected</th>\n",
       "      <th>Head_count</th>\n",
       "      <th>Head_angles_v</th>\n",
       "      <th>Head_angles_h</th>\n",
       "    </tr>\n",
       "  </thead>\n",
       "  <tbody>\n",
       "    <tr>\n",
       "      <td>Head_orientation_vertical</td>\n",
       "      <td>0.003467</td>\n",
       "      <td>0.0</td>\n",
       "      <td>0.001109</td>\n",
       "      <td>-0.000445</td>\n",
       "      <td>0.0</td>\n",
       "      <td>-0.235047</td>\n",
       "      <td>0.037692</td>\n",
       "    </tr>\n",
       "    <tr>\n",
       "      <td>Head_orientation_horizontal</td>\n",
       "      <td>0.000000</td>\n",
       "      <td>0.0</td>\n",
       "      <td>0.000000</td>\n",
       "      <td>0.000000</td>\n",
       "      <td>0.0</td>\n",
       "      <td>0.000000</td>\n",
       "      <td>0.000000</td>\n",
       "    </tr>\n",
       "    <tr>\n",
       "      <td>Mouth_open</td>\n",
       "      <td>0.001109</td>\n",
       "      <td>0.0</td>\n",
       "      <td>0.038827</td>\n",
       "      <td>-0.015586</td>\n",
       "      <td>0.0</td>\n",
       "      <td>-0.335299</td>\n",
       "      <td>0.427905</td>\n",
       "    </tr>\n",
       "    <tr>\n",
       "      <td>Phone_detected</td>\n",
       "      <td>-0.000445</td>\n",
       "      <td>0.0</td>\n",
       "      <td>-0.015586</td>\n",
       "      <td>18.263158</td>\n",
       "      <td>0.0</td>\n",
       "      <td>0.125626</td>\n",
       "      <td>-0.600823</td>\n",
       "    </tr>\n",
       "    <tr>\n",
       "      <td>Head_count</td>\n",
       "      <td>0.000000</td>\n",
       "      <td>0.0</td>\n",
       "      <td>0.000000</td>\n",
       "      <td>0.000000</td>\n",
       "      <td>0.0</td>\n",
       "      <td>0.000000</td>\n",
       "      <td>0.000000</td>\n",
       "    </tr>\n",
       "    <tr>\n",
       "      <td>Head_angles_v</td>\n",
       "      <td>-0.235047</td>\n",
       "      <td>0.0</td>\n",
       "      <td>-0.335299</td>\n",
       "      <td>0.125626</td>\n",
       "      <td>0.0</td>\n",
       "      <td>28.960623</td>\n",
       "      <td>-5.323848</td>\n",
       "    </tr>\n",
       "    <tr>\n",
       "      <td>Head_angles_h</td>\n",
       "      <td>0.037692</td>\n",
       "      <td>0.0</td>\n",
       "      <td>0.427905</td>\n",
       "      <td>-0.600823</td>\n",
       "      <td>0.0</td>\n",
       "      <td>-5.323848</td>\n",
       "      <td>16.165487</td>\n",
       "    </tr>\n",
       "  </tbody>\n",
       "</table>\n",
       "</div>"
      ],
      "text/plain": [
       "                             Head_orientation_vertical  \\\n",
       "Head_orientation_vertical                     0.003467   \n",
       "Head_orientation_horizontal                   0.000000   \n",
       "Mouth_open                                    0.001109   \n",
       "Phone_detected                               -0.000445   \n",
       "Head_count                                    0.000000   \n",
       "Head_angles_v                                -0.235047   \n",
       "Head_angles_h                                 0.037692   \n",
       "\n",
       "                             Head_orientation_horizontal  Mouth_open  \\\n",
       "Head_orientation_vertical                            0.0    0.001109   \n",
       "Head_orientation_horizontal                          0.0    0.000000   \n",
       "Mouth_open                                           0.0    0.038827   \n",
       "Phone_detected                                       0.0   -0.015586   \n",
       "Head_count                                           0.0    0.000000   \n",
       "Head_angles_v                                        0.0   -0.335299   \n",
       "Head_angles_h                                        0.0    0.427905   \n",
       "\n",
       "                             Phone_detected  Head_count  Head_angles_v  \\\n",
       "Head_orientation_vertical         -0.000445         0.0      -0.235047   \n",
       "Head_orientation_horizontal        0.000000         0.0       0.000000   \n",
       "Mouth_open                        -0.015586         0.0      -0.335299   \n",
       "Phone_detected                    18.263158         0.0       0.125626   \n",
       "Head_count                         0.000000         0.0       0.000000   \n",
       "Head_angles_v                      0.125626         0.0      28.960623   \n",
       "Head_angles_h                     -0.600823         0.0      -5.323848   \n",
       "\n",
       "                             Head_angles_h  \n",
       "Head_orientation_vertical         0.037692  \n",
       "Head_orientation_horizontal       0.000000  \n",
       "Mouth_open                        0.427905  \n",
       "Phone_detected                   -0.600823  \n",
       "Head_count                        0.000000  \n",
       "Head_angles_v                    -5.323848  \n",
       "Head_angles_h                    16.165487  "
      ]
     },
     "execution_count": 17,
     "metadata": {},
     "output_type": "execute_result"
    }
   ],
   "source": [
    "ncheat_data.cov()"
   ]
  },
  {
   "cell_type": "code",
   "execution_count": 18,
   "metadata": {},
   "outputs": [
    {
     "data": {
      "text/plain": [
       "array([[<matplotlib.axes._subplots.AxesSubplot object at 0x0000020BDAFAB198>,\n",
       "        <matplotlib.axes._subplots.AxesSubplot object at 0x0000020BDAFC8048>,\n",
       "        <matplotlib.axes._subplots.AxesSubplot object at 0x0000020BDB240630>,\n",
       "        <matplotlib.axes._subplots.AxesSubplot object at 0x0000020BDB267BA8>,\n",
       "        <matplotlib.axes._subplots.AxesSubplot object at 0x0000020BDB298160>,\n",
       "        <matplotlib.axes._subplots.AxesSubplot object at 0x0000020BDB2C16D8>,\n",
       "        <matplotlib.axes._subplots.AxesSubplot object at 0x0000020BDB2E8C50>],\n",
       "       [<matplotlib.axes._subplots.AxesSubplot object at 0x0000020BDB31B240>,\n",
       "        <matplotlib.axes._subplots.AxesSubplot object at 0x0000020BDB31B278>,\n",
       "        <matplotlib.axes._subplots.AxesSubplot object at 0x0000020BDB36ACF8>,\n",
       "        <matplotlib.axes._subplots.AxesSubplot object at 0x0000020BDB39B2B0>,\n",
       "        <matplotlib.axes._subplots.AxesSubplot object at 0x0000020BDB3C2828>,\n",
       "        <matplotlib.axes._subplots.AxesSubplot object at 0x0000020BDB3E9DA0>,\n",
       "        <matplotlib.axes._subplots.AxesSubplot object at 0x0000020BDB41C320>],\n",
       "       [<matplotlib.axes._subplots.AxesSubplot object at 0x0000020BDB442898>,\n",
       "        <matplotlib.axes._subplots.AxesSubplot object at 0x0000020BDB46BE10>,\n",
       "        <matplotlib.axes._subplots.AxesSubplot object at 0x0000020BDB49C3C8>,\n",
       "        <matplotlib.axes._subplots.AxesSubplot object at 0x0000020BDB4C5940>,\n",
       "        <matplotlib.axes._subplots.AxesSubplot object at 0x0000020BDB4EBEB8>,\n",
       "        <matplotlib.axes._subplots.AxesSubplot object at 0x0000020BDB51B470>,\n",
       "        <matplotlib.axes._subplots.AxesSubplot object at 0x0000020BDB5459E8>],\n",
       "       [<matplotlib.axes._subplots.AxesSubplot object at 0x0000020BDB56FF60>,\n",
       "        <matplotlib.axes._subplots.AxesSubplot object at 0x0000020BDB59E518>,\n",
       "        <matplotlib.axes._subplots.AxesSubplot object at 0x0000020BDB5C4A90>,\n",
       "        <matplotlib.axes._subplots.AxesSubplot object at 0x0000020BDB5F8048>,\n",
       "        <matplotlib.axes._subplots.AxesSubplot object at 0x0000020BDB61E5C0>,\n",
       "        <matplotlib.axes._subplots.AxesSubplot object at 0x0000020BDB646B38>,\n",
       "        <matplotlib.axes._subplots.AxesSubplot object at 0x0000020BDB6790F0>],\n",
       "       [<matplotlib.axes._subplots.AxesSubplot object at 0x0000020BDB6A0668>,\n",
       "        <matplotlib.axes._subplots.AxesSubplot object at 0x0000020BDB6C8BE0>,\n",
       "        <matplotlib.axes._subplots.AxesSubplot object at 0x0000020BDB6FA198>,\n",
       "        <matplotlib.axes._subplots.AxesSubplot object at 0x0000020BDB722710>,\n",
       "        <matplotlib.axes._subplots.AxesSubplot object at 0x0000020BDB746C88>,\n",
       "        <matplotlib.axes._subplots.AxesSubplot object at 0x0000020BDB77C240>,\n",
       "        <matplotlib.axes._subplots.AxesSubplot object at 0x0000020BDB7A17B8>],\n",
       "       [<matplotlib.axes._subplots.AxesSubplot object at 0x0000020BDB7CBD30>,\n",
       "        <matplotlib.axes._subplots.AxesSubplot object at 0x0000020BDB7FB2E8>,\n",
       "        <matplotlib.axes._subplots.AxesSubplot object at 0x0000020BDB823860>,\n",
       "        <matplotlib.axes._subplots.AxesSubplot object at 0x0000020BDB84BDD8>,\n",
       "        <matplotlib.axes._subplots.AxesSubplot object at 0x0000020BDB87C390>,\n",
       "        <matplotlib.axes._subplots.AxesSubplot object at 0x0000020BDB8A2908>,\n",
       "        <matplotlib.axes._subplots.AxesSubplot object at 0x0000020BDB8CCE80>],\n",
       "       [<matplotlib.axes._subplots.AxesSubplot object at 0x0000020BDB8FC438>,\n",
       "        <matplotlib.axes._subplots.AxesSubplot object at 0x0000020BDB9279B0>,\n",
       "        <matplotlib.axes._subplots.AxesSubplot object at 0x0000020BDB94DF28>,\n",
       "        <matplotlib.axes._subplots.AxesSubplot object at 0x0000020BDB97D4E0>,\n",
       "        <matplotlib.axes._subplots.AxesSubplot object at 0x0000020BDB9A4A58>,\n",
       "        <matplotlib.axes._subplots.AxesSubplot object at 0x0000020BDB9D1FD0>,\n",
       "        <matplotlib.axes._subplots.AxesSubplot object at 0x0000020BDB9FE588>]],\n",
       "      dtype=object)"
      ]
     },
     "execution_count": 18,
     "metadata": {},
     "output_type": "execute_result"
    },
    {
     "data": {
      "image/png": "[encoded data removed]",
      "text/plain": [
       "<Figure size 1080x1080 with 49 Axes>"
      ]
     },
     "metadata": {
      "needs_background": "light"
     },
     "output_type": "display_data"
    }
   ],
   "source": [
    "pd.plotting.scatter_matrix(cheat_data,alpha=0.2,figsize=(15,15))"
   ]
  },
  {
   "cell_type": "code",
   "execution_count": 19,
   "metadata": {},
   "outputs": [
    {
     "name": "stderr",
     "output_type": "stream",
     "text": [
      "C:\\Users\\lenovo\\Anaconda3\\lib\\site-packages\\pandas\\plotting\\_matplotlib\\misc.py:80: UserWarning: Attempting to set identical left==right results\n",
      "in singular transformations; automatically expanding.\n",
      "left=0.0, right=0.0\n",
      "  ax.set_xlim(boundaries_list[j])\n",
      "C:\\Users\\lenovo\\Anaconda3\\lib\\site-packages\\pandas\\plotting\\_matplotlib\\misc.py:80: UserWarning: Attempting to set identical left==right results\n",
      "in singular transformations; automatically expanding.\n",
      "left=1.0, right=1.0\n",
      "  ax.set_xlim(boundaries_list[j])\n",
      "C:\\Users\\lenovo\\Anaconda3\\lib\\site-packages\\pandas\\plotting\\_matplotlib\\misc.py:81: UserWarning: Attempting to set identical bottom==top results\n",
      "in singular transformations; automatically expanding.\n",
      "bottom=0.0, top=0.0\n",
      "  ax.set_ylim(boundaries_list[i])\n",
      "C:\\Users\\lenovo\\Anaconda3\\lib\\site-packages\\pandas\\plotting\\_matplotlib\\misc.py:71: UserWarning: Attempting to set identical left==right results\n",
      "in singular transformations; automatically expanding.\n",
      "left=0.0, right=0.0\n",
      "  ax.set_xlim(boundaries_list[i])\n",
      "C:\\Users\\lenovo\\Anaconda3\\lib\\site-packages\\pandas\\plotting\\_matplotlib\\misc.py:81: UserWarning: Attempting to set identical bottom==top results\n",
      "in singular transformations; automatically expanding.\n",
      "bottom=1.0, top=1.0\n",
      "  ax.set_ylim(boundaries_list[i])\n",
      "C:\\Users\\lenovo\\Anaconda3\\lib\\site-packages\\pandas\\plotting\\_matplotlib\\misc.py:71: UserWarning: Attempting to set identical left==right results\n",
      "in singular transformations; automatically expanding.\n",
      "left=1.0, right=1.0\n",
      "  ax.set_xlim(boundaries_list[i])\n"
     ]
    },
    {
     "data": {
      "text/plain": [
       "array([[<matplotlib.axes._subplots.AxesSubplot object at 0x0000020BDD31E2E8>,\n",
       "        <matplotlib.axes._subplots.AxesSubplot object at 0x0000020BDD319940>,\n",
       "        <matplotlib.axes._subplots.AxesSubplot object at 0x0000020BDCE06C18>,\n",
       "        <matplotlib.axes._subplots.AxesSubplot object at 0x0000020BDCE251D0>,\n",
       "        <matplotlib.axes._subplots.AxesSubplot object at 0x0000020BDCE47748>,\n",
       "        <matplotlib.axes._subplots.AxesSubplot object at 0x0000020BDCE6FCC0>,\n",
       "        <matplotlib.axes._subplots.AxesSubplot object at 0x0000020BDCE9E278>],\n",
       "       [<matplotlib.axes._subplots.AxesSubplot object at 0x0000020BDCEC6828>,\n",
       "        <matplotlib.axes._subplots.AxesSubplot object at 0x0000020BDCEC6860>,\n",
       "        <matplotlib.axes._subplots.AxesSubplot object at 0x0000020BDCF22320>,\n",
       "        <matplotlib.axes._subplots.AxesSubplot object at 0x0000020BDCF47860>,\n",
       "        <matplotlib.axes._subplots.AxesSubplot object at 0x0000020BDCF71DD8>,\n",
       "        <matplotlib.axes._subplots.AxesSubplot object at 0x0000020BDCFA2390>,\n",
       "        <matplotlib.axes._subplots.AxesSubplot object at 0x0000020BDCFC8908>],\n",
       "       [<matplotlib.axes._subplots.AxesSubplot object at 0x0000020BDCFF0E80>,\n",
       "        <matplotlib.axes._subplots.AxesSubplot object at 0x0000020BDD018F28>,\n",
       "        <matplotlib.axes._subplots.AxesSubplot object at 0x0000020BDD0484E0>,\n",
       "        <matplotlib.axes._subplots.AxesSubplot object at 0x0000020BDD06FA58>,\n",
       "        <matplotlib.axes._subplots.AxesSubplot object at 0x0000020BDD099FD0>,\n",
       "        <matplotlib.axes._subplots.AxesSubplot object at 0x0000020BDD0C8588>,\n",
       "        <matplotlib.axes._subplots.AxesSubplot object at 0x0000020BDD0F3B00>],\n",
       "       [<matplotlib.axes._subplots.AxesSubplot object at 0x0000020BDD1240B8>,\n",
       "        <matplotlib.axes._subplots.AxesSubplot object at 0x0000020BDD14D630>,\n",
       "        <matplotlib.axes._subplots.AxesSubplot object at 0x0000020BDD173BA8>,\n",
       "        <matplotlib.axes._subplots.AxesSubplot object at 0x0000020BDD1A4160>,\n",
       "        <matplotlib.axes._subplots.AxesSubplot object at 0x0000020BDD1CC6D8>,\n",
       "        <matplotlib.axes._subplots.AxesSubplot object at 0x0000020BDD1F2C50>,\n",
       "        <matplotlib.axes._subplots.AxesSubplot object at 0x0000020BDD222208>],\n",
       "       [<matplotlib.axes._subplots.AxesSubplot object at 0x0000020BDD24C780>,\n",
       "        <matplotlib.axes._subplots.AxesSubplot object at 0x0000020BDD275CF8>,\n",
       "        <matplotlib.axes._subplots.AxesSubplot object at 0x0000020BDD6762B0>,\n",
       "        <matplotlib.axes._subplots.AxesSubplot object at 0x0000020BDD69D828>,\n",
       "        <matplotlib.axes._subplots.AxesSubplot object at 0x0000020BDD6C7DA0>,\n",
       "        <matplotlib.axes._subplots.AxesSubplot object at 0x0000020BDD6F6358>,\n",
       "        <matplotlib.axes._subplots.AxesSubplot object at 0x0000020BDD71D8D0>],\n",
       "       [<matplotlib.axes._subplots.AxesSubplot object at 0x0000020BDD746E48>,\n",
       "        <matplotlib.axes._subplots.AxesSubplot object at 0x0000020BDD778400>,\n",
       "        <matplotlib.axes._subplots.AxesSubplot object at 0x0000020BDD79E978>,\n",
       "        <matplotlib.axes._subplots.AxesSubplot object at 0x0000020BDD7C9EF0>,\n",
       "        <matplotlib.axes._subplots.AxesSubplot object at 0x0000020BDD7F94A8>,\n",
       "        <matplotlib.axes._subplots.AxesSubplot object at 0x0000020BDD81FA20>,\n",
       "        <matplotlib.axes._subplots.AxesSubplot object at 0x0000020BDD849F98>],\n",
       "       [<matplotlib.axes._subplots.AxesSubplot object at 0x0000020BDD87A550>,\n",
       "        <matplotlib.axes._subplots.AxesSubplot object at 0x0000020BDD89EAC8>,\n",
       "        <matplotlib.axes._subplots.AxesSubplot object at 0x0000020BDD8D4080>,\n",
       "        <matplotlib.axes._subplots.AxesSubplot object at 0x0000020BDD8F85F8>,\n",
       "        <matplotlib.axes._subplots.AxesSubplot object at 0x0000020BDD921B70>,\n",
       "        <matplotlib.axes._subplots.AxesSubplot object at 0x0000020BDD952128>,\n",
       "        <matplotlib.axes._subplots.AxesSubplot object at 0x0000020BDD97C6A0>]],\n",
       "      dtype=object)"
      ]
     },
     "execution_count": 19,
     "metadata": {},
     "output_type": "execute_result"
    },
    {
     "data": {
      "image/png": "[encoded data removed]",
      "text/plain": [
       "<Figure size 1080x1080 with 49 Axes>"
      ]
     },
     "metadata": {
      "needs_background": "light"
     },
     "output_type": "display_data"
    }
   ],
   "source": [
    "pd.plotting.scatter_matrix(ncheat_data,alpha=0.2,figsize=(15,15))"
   ]
  },
  {
   "cell_type": "markdown",
   "metadata": {},
   "source": [
    "# fitting to model"
   ]
  },
  {
   "cell_type": "code",
   "execution_count": 20,
   "metadata": {},
   "outputs": [],
   "source": [
    "from sklearn.preprocessing import MinMaxScaler\n",
    "from sklearn.model_selection import train_test_split"
   ]
  },
  {
   "cell_type": "code",
   "execution_count": 21,
   "metadata": {},
   "outputs": [
    {
     "name": "stderr",
     "output_type": "stream",
     "text": [
      "C:\\Users\\lenovo\\Anaconda3\\lib\\site-packages\\sklearn\\preprocessing\\data.py:334: DataConversionWarning: Data with input dtype int64, float64 were all converted to float64 by MinMaxScaler.\n",
      "  return self.partial_fit(X, y)\n"
     ]
    }
   ],
   "source": [
    "cheat_data[['Head_orientation_vertical', 'Head_orientation_horizontal',\n",
    "       'Mouth_open', 'Phone_detected', 'Head_count', 'Head_angles_v',\n",
    "       'Head_angles_h']] = MinMaxScaler().fit_transform(cheat_data[['Head_orientation_vertical', 'Head_orientation_horizontal',\n",
    "       'Mouth_open', 'Phone_detected', 'Head_count', 'Head_angles_v',\n",
    "       'Head_angles_h']])"
   ]
  },
  {
   "cell_type": "code",
   "execution_count": 22,
   "metadata": {},
   "outputs": [
    {
     "name": "stderr",
     "output_type": "stream",
     "text": [
      "C:\\Users\\lenovo\\Anaconda3\\lib\\site-packages\\sklearn\\preprocessing\\data.py:334: DataConversionWarning: Data with input dtype int64, float64 were all converted to float64 by MinMaxScaler.\n",
      "  return self.partial_fit(X, y)\n"
     ]
    }
   ],
   "source": [
    "ncheat_data[['Head_orientation_vertical', 'Head_orientation_horizontal',\n",
    "       'Mouth_open', 'Phone_detected', 'Head_count', 'Head_angles_v',\n",
    "       'Head_angles_h']] = MinMaxScaler().fit_transform(ncheat_data[['Head_orientation_vertical', 'Head_orientation_horizontal',\n",
    "       'Mouth_open', 'Phone_detected', 'Head_count', 'Head_angles_v',\n",
    "       'Head_angles_h']])"
   ]
  },
  {
   "cell_type": "code",
   "execution_count": 23,
   "metadata": {},
   "outputs": [],
   "source": [
    "cheat_data = cheat_data.assign(result=[1]*cheat_data.shape[0])\n",
    "ncheat_data = ncheat_data.assign(result=[0]*ncheat_data.shape[0])"
   ]
  },
  {
   "cell_type": "code",
   "execution_count": 24,
   "metadata": {},
   "outputs": [],
   "source": [
    "df = pd.concat([cheat_data,ncheat_data])"
   ]
  },
  {
   "cell_type": "code",
   "execution_count": 25,
   "metadata": {},
   "outputs": [],
   "source": [
    "df = df.sample(frac=1).reset_index(drop=True) #shuffling"
   ]
  },
  {
   "cell_type": "code",
   "execution_count": 26,
   "metadata": {},
   "outputs": [],
   "source": [
    "X = df.iloc[:,:-1]\n",
    "y = df.iloc[:,-1]"
   ]
  },
  {
   "cell_type": "code",
   "execution_count": 27,
   "metadata": {},
   "outputs": [],
   "source": [
    "X_train, X_test, y_train, y_test = train_test_split(X, y,stratify=y, test_size=0.25)"
   ]
  },
  {
   "cell_type": "code",
   "execution_count": 28,
   "metadata": {},
   "outputs": [
    {
     "data": {
      "text/plain": [
       "(1083, 7)"
      ]
     },
     "execution_count": 28,
     "metadata": {},
     "output_type": "execute_result"
    }
   ],
   "source": [
    "X_train.shape"
   ]
  },
  {
   "cell_type": "code",
   "execution_count": 29,
   "metadata": {},
   "outputs": [
    {
     "data": {
      "text/plain": [
       "(1083,)"
      ]
     },
     "execution_count": 29,
     "metadata": {},
     "output_type": "execute_result"
    }
   ],
   "source": [
    "y_train.shape"
   ]
  },
  {
   "cell_type": "markdown",
   "metadata": {},
   "source": [
    "# SVM"
   ]
  },
  {
   "cell_type": "code",
   "execution_count": 30,
   "metadata": {},
   "outputs": [],
   "source": [
    "from sklearn import svm"
   ]
  },
  {
   "cell_type": "code",
   "execution_count": 31,
   "metadata": {},
   "outputs": [],
   "source": [
    "model = svm.SVC(gamma='scale')"
   ]
  },
  {
   "cell_type": "code",
   "execution_count": 32,
   "metadata": {},
   "outputs": [
    {
     "data": {
      "text/plain": [
       "SVC(C=1.0, cache_size=200, class_weight=None, coef0=0.0,\n",
       "  decision_function_shape='ovr', degree=3, gamma='scale', kernel='rbf',\n",
       "  max_iter=-1, probability=False, random_state=None, shrinking=True,\n",
       "  tol=0.001, verbose=False)"
      ]
     },
     "execution_count": 32,
     "metadata": {},
     "output_type": "execute_result"
    }
   ],
   "source": [
    "model.fit(X_train,y_train)"
   ]
  },
  {
   "cell_type": "code",
   "execution_count": 33,
   "metadata": {},
   "outputs": [],
   "source": [
    "y_pred = model.predict(X_test)"
   ]
  },
  {
   "cell_type": "code",
   "execution_count": 34,
   "metadata": {},
   "outputs": [],
   "source": [
    "from sklearn import metrics"
   ]
  },
  {
   "cell_type": "code",
   "execution_count": 35,
   "metadata": {},
   "outputs": [],
   "source": [
    "score = metrics.accuracy_score(y_test, y_pred)"
   ]
  },
  {
   "cell_type": "code",
   "execution_count": 36,
   "metadata": {},
   "outputs": [],
   "source": [
    "import matplotlib.pyplot as plt\n",
    "import seaborn as sns"
   ]
  },
  {
   "cell_type": "code",
   "execution_count": 37,
   "metadata": {},
   "outputs": [
    {
     "data": {
      "text/plain": [
       "array([[217,   0],\n",
       "       [  4, 141]], dtype=int64)"
      ]
     },
     "execution_count": 37,
     "metadata": {},
     "output_type": "execute_result"
    }
   ],
   "source": [
    "cm = metrics.confusion_matrix(y_test, y_pred)\n",
    "cm"
   ]
  },
  {
   "cell_type": "code",
   "execution_count": 38,
   "metadata": {},
   "outputs": [
    {
     "data": {
      "image/png": "[encoded data removed]",
      "text/plain": [
       "<Figure size 144x144 with 2 Axes>"
      ]
     },
     "metadata": {
      "needs_background": "light"
     },
     "output_type": "display_data"
    }
   ],
   "source": [
    "plt.figure(figsize=(2,2))\n",
    "sns.heatmap(cm, annot=True, fmt=\".3f\", linewidths=.5, square = True, cmap = 'Blues_r');\n",
    "plt.ylabel('Actual label');\n",
    "plt.xlabel('Predicted label');\n",
    "all_sample_title = 'Accuracy Score: {0}'.format(score)\n",
    "plt.title(all_sample_title, size = 15);"
   ]
  },
  {
   "cell_type": "markdown",
   "metadata": {},
   "source": [
    "# Logistic Regression"
   ]
  },
  {
   "cell_type": "code",
   "execution_count": 57,
   "metadata": {},
   "outputs": [],
   "source": [
    "from sklearn.linear_model import LogisticRegression"
   ]
  },
  {
   "cell_type": "code",
   "execution_count": 58,
   "metadata": {},
   "outputs": [],
   "source": [
    "logistic_model = LogisticRegression()"
   ]
  },
  {
   "cell_type": "code",
   "execution_count": 59,
   "metadata": {},
   "outputs": [
    {
     "name": "stderr",
     "output_type": "stream",
     "text": [
      "C:\\Users\\lenovo\\Anaconda3\\lib\\site-packages\\sklearn\\linear_model\\logistic.py:433: FutureWarning: Default solver will be changed to 'lbfgs' in 0.22. Specify a solver to silence this warning.\n",
      "  FutureWarning)\n"
     ]
    },
    {
     "data": {
      "text/plain": [
       "LogisticRegression(C=1.0, class_weight=None, dual=False, fit_intercept=True,\n",
       "          intercept_scaling=1, max_iter=100, multi_class='warn',\n",
       "          n_jobs=None, penalty='l2', random_state=None, solver='warn',\n",
       "          tol=0.0001, verbose=0, warm_start=False)"
      ]
     },
     "execution_count": 59,
     "metadata": {},
     "output_type": "execute_result"
    }
   ],
   "source": [
    "logistic_model.fit(X_train,y_train)"
   ]
  },
  {
   "cell_type": "code",
   "execution_count": 60,
   "metadata": {},
   "outputs": [],
   "source": [
    "y_pred = logistic_model.predict(X_test)"
   ]
  },
  {
   "cell_type": "code",
   "execution_count": 61,
   "metadata": {},
   "outputs": [],
   "source": [
    "score = logistic_model.score(X_test,y_test)"
   ]
  },
  {
   "cell_type": "code",
   "execution_count": 62,
   "metadata": {},
   "outputs": [
    {
     "data": {
      "text/plain": [
       "0.7622950819672131"
      ]
     },
     "execution_count": 62,
     "metadata": {},
     "output_type": "execute_result"
    }
   ],
   "source": [
    "score"
   ]
  },
  {
   "cell_type": "code",
   "execution_count": 63,
   "metadata": {
    "scrolled": true
   },
   "outputs": [
    {
     "data": {
      "text/plain": [
       "array([[77,  3],\n",
       "       [26, 16]], dtype=int64)"
      ]
     },
     "execution_count": 63,
     "metadata": {},
     "output_type": "execute_result"
    }
   ],
   "source": [
    "cm = metrics.confusion_matrix(y_test, y_pred)\n",
    "cm"
   ]
  },
  {
   "cell_type": "code",
   "execution_count": 64,
   "metadata": {},
   "outputs": [],
   "source": [
    "import matplotlib.pyplot as plt\n",
    "import seaborn as sns"
   ]
  },
  {
   "cell_type": "code",
   "execution_count": 65,
   "metadata": {},
   "outputs": [
    {
     "data": {
      "image/png": "[encoded data removed]",
      "text/plain": [
       "<Figure size 144x144 with 2 Axes>"
      ]
     },
     "metadata": {
      "needs_background": "light"
     },
     "output_type": "display_data"
    }
   ],
   "source": [
    "plt.figure(figsize=(2,2))\n",
    "sns.heatmap(cm, annot=True, fmt=\".3f\", linewidths=.5, square = True, cmap = 'Blues_r');\n",
    "plt.ylabel('Actual label');\n",
    "plt.xlabel('Predicted label');\n",
    "all_sample_title = 'Accuracy Score: {0}'.format(score)\n",
    "plt.title(all_sample_title, size = 15);"
   ]
  },
  {
   "cell_type": "markdown",
   "metadata": {},
   "source": [
    "# Testing other dataset"
   ]
  },
  {
   "cell_type": "code",
   "execution_count": 48,
   "metadata": {},
   "outputs": [],
   "source": [
    "data = pd.read_csv('file.csv')"
   ]
  },
  {
   "cell_type": "code",
   "execution_count": 49,
   "metadata": {},
   "outputs": [],
   "source": [
    "del data['Unnamed: 0']"
   ]
  },
  {
   "cell_type": "code",
   "execution_count": 50,
   "metadata": {},
   "outputs": [],
   "source": [
    "data = data.replace(['Head up', 'Head down', 'Head left', 'Head right', 'Mouth open'], [1,-1,-1,1,1])"
   ]
  },
  {
   "cell_type": "code",
   "execution_count": 51,
   "metadata": {},
   "outputs": [],
   "source": [
    "data.loc[:,:data.columns[3]] = data.loc[:,:data.columns[3]].replace(' ',0)"
   ]
  },
  {
   "cell_type": "code",
   "execution_count": 52,
   "metadata": {},
   "outputs": [],
   "source": [
    "data[data.columns[3]] = data[data.columns[3]].astype('float64')"
   ]
  },
  {
   "cell_type": "code",
   "execution_count": 53,
   "metadata": {},
   "outputs": [],
   "source": [
    "from sklearn.preprocessing import MinMaxScaler\n",
    "from sklearn.model_selection import train_test_split"
   ]
  },
  {
   "cell_type": "code",
   "execution_count": 54,
   "metadata": {},
   "outputs": [
    {
     "name": "stderr",
     "output_type": "stream",
     "text": [
      "C:\\Users\\lenovo\\Anaconda3\\lib\\site-packages\\sklearn\\preprocessing\\data.py:334: DataConversionWarning: Data with input dtype int64, float64 were all converted to float64 by MinMaxScaler.\n",
      "  return self.partial_fit(X, y)\n"
     ]
    }
   ],
   "source": [
    "data[['Head_orientation_vertical', 'Head_orientation_horizontal',\n",
    "       'Mouth_open', 'Phone_detected', 'Head_count', 'Head_angles_v',\n",
    "       'Head_angles_h']] = MinMaxScaler().fit_transform(data[['Head_orientation_vertical', 'Head_orientation_horizontal',\n",
    "       'Mouth_open', 'Phone_detected', 'Head_count', 'Head_angles_v',\n",
    "       'Head_angles_h']])"
   ]
  },
  {
   "cell_type": "code",
   "execution_count": 55,
   "metadata": {},
   "outputs": [],
   "source": [
    "X = data.iloc[:,:-1]\n",
    "y = data.iloc[:,-1]"
   ]
  },
  {
   "cell_type": "code",
   "execution_count": 56,
   "metadata": {},
   "outputs": [],
   "source": [
    "X_train, X_test, y_train, y_test = train_test_split(X, y,stratify=y, test_size=0.25)"
   ]
  },
  {
   "cell_type": "code",
   "execution_count": null,
   "metadata": {},
   "outputs": [],
   "source": []
  }
 ],
 "metadata": {
  "kernelspec": {
   "display_name": "Python 3",
   "language": "python",
   "name": "python3"
  },
  "language_info": {
   "codemirror_mode": {
    "name": "ipython",
    "version": 3
   },
   "file_extension": ".py",
   "mimetype": "text/x-python",
   "name": "python",
   "nbconvert_exporter": "python",
   "pygments_lexer": "ipython3",
   "version": "3.7.3"
  }
 },
 "nbformat": 4,
 "nbformat_minor": 2
}
